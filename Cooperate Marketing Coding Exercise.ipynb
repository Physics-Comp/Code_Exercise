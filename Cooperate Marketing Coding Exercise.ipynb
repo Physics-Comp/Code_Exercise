{
 "cells": [
  {
   "cell_type": "markdown",
   "id": "ce233b18",
   "metadata": {},
   "source": [
    "## Task 1 - Data Manipulation Basics\n",
    "\n",
    "Suppose you have a data frame of two columns, score_1 and score_2, as the probability of two different\n",
    "events, respectively. Please complete the following."
   ]
  },
  {
   "cell_type": "markdown",
   "id": "6091d1d6",
   "metadata": {},
   "source": [
    "1. Create a new column in the data frame called highlighted, which is a Boolean value representing\n",
    "whether a record passes the following logic check:\n",
    "- Both columns are below 0.35, OR\n",
    "- score_1 is below 0.20 and score_2 is below 0.90, OR\n",
    "- score_1 is below 0.15 and score_2 is below 0.80"
   ]
  },
  {
   "cell_type": "code",
   "execution_count": null,
   "id": "eb9a61a9",
   "metadata": {},
   "outputs": [],
   "source": [
    "import pandas as pd\n",
    "\n",
    "# Create a sample DataFrame\n",
    "data = {'score_1': [0.1, 0.25, 0.05, 0.4, 0.15],\n",
    "        'score_2': [0.3, 0.7, 0.85, 0.2, 0.9]}\n",
    "\n",
    "df = pd.DataFrame(data)\n",
    "\n",
    "# Define the logic check as a function\n",
    "def highlight_logic(row):\n",
    "    return (\n",
    "        (row['score_1'] < 0.35 and row['score_2'] < 0.35) or\n",
    "        (row['score_1'] < 0.20 and row['score_2'] < 0.90) or\n",
    "        (row['score_1'] < 0.15 and row['score_2'] < 0.80)\n",
    "    )\n",
    "\n",
    "# Apply the logic check and create the 'highlighted' column\n",
    "df['highlighted'] = df.apply(highlight_logic, axis=1)\n",
    "\n",
    "# Display the updated DataFrame\n",
    "print(df)"
   ]
  },
  {
   "cell_type": "markdown",
   "id": "833f1121",
   "metadata": {},
   "source": [
    "2. Create a categorical column called risk_1_group, which is based on score_1 values, as following:\n",
    "| score_1 | score1_group |\n",
    "|---------|--------------|\n",
    "|x < 0.10 |'Very Low'    |\n",
    "|0.10 <= x < 0.30 | 'Medium'|\n",
    "|0.30 <= x < 0.80 | 'High'  |\n",
    "|x >= 0.80 | 'Very High'|"
   ]
  },
  {
   "cell_type": "code",
   "execution_count": null,
   "id": "051c52b5",
   "metadata": {},
   "outputs": [],
   "source": [
    "# Define the bins and labels for the risk groups\n",
    "bins = [-float(\"inf\"), 0.10, 0.30, 0.80, float(\"inf\")]\n",
    "labels = ['Very Low', 'Medium', 'High', 'Very High']\n",
    "\n",
    "# Create the \"risk_1_group\" column using cut\n",
    "df['risk_1_group'] = pd.cut(df['score_1'], bins=bins, labels=labels, right=False)\n",
    "print(df)"
   ]
  },
  {
   "cell_type": "markdown",
   "id": "c3668b0b",
   "metadata": {},
   "source": [
    "## Task 2 - Python Class Basics\n",
    "Suppose we want to create a Reimbursement class that describes spending for Ads that a vendor can\n",
    "run and get reimbursed per following:\n",
    "\n",
    "| Ad Type             | Cost Share Rate(per dollar) | Actual Spend($)       |\n",
    "| :---------------- | :------: | ----:          |\n",
    "| 0011              |   0.50   | 200            |\n",
    "| 1011              |   1.00   | 1000 - 2000    |\n",
    "| 1111              |  0.75    | 500            |\n",
    "| 1010              |  0.90    | Up to 750      |\n",
    "\n",
    "Note: There was not information given on how to calculate the reimbursement, however I will assume a Percentage to actual Spend calculation as this seems to be the simplies approach. Here is the following equation.\n",
    "\n",
    "$$\n",
    "  Reimbursement = Cost Share Rate * Actual Spend\n",
    "$$"
   ]
  },
  {
   "cell_type": "code",
   "execution_count": 15,
   "id": "fc403c18",
   "metadata": {},
   "outputs": [],
   "source": [
    "class Reimbursement:\n",
    "    def __init__(self):\n",
    "        self.ads_data = {\n",
    "            '0011': {'Cost_Share_Rate': 0.50, 'Actual_Spend': 200, 'Count': []},\n",
    "            '1011': {'Cost_Share_Rate': 1.00, 'Actual_Spend': range(1000, 2000), 'Count': []},\n",
    "            '1111': {'Cost_Share_Rate': 0.75, 'Actual_Spend': 500, 'Count': []},\n",
    "            '1010': {'Cost_Share_Rate': 0.90, 'Actual_Spend': range(0,750), 'Count': []}\n",
    "        }\n",
    "        \n",
    "    # Function to add an amount to the Count for a specific ad_type\n",
    "    def add_to_count(self, ad_type, amount):\n",
    "        if ad_type in self.ads_data:\n",
    "            actual_spend = self.ads_data[ad_type]['Actual_Spend']\n",
    "            if (isinstance(actual_spend, int) and amount == actual_spend) or \\\n",
    "               (isinstance(actual_spend, range) and amount in actual_spend):\n",
    "                self.ads_data[ad_type]['Count'].append(amount)\n",
    "            else:\n",
    "                print(f\"Invalid Ad Type for Amount Entered\")\n",
    "        else:\n",
    "            print(f\"Invalid Ad Type: {ad_type}\")\n",
    "\n",
    "    # Function to remove a value from the Count list for a specific ad_type\n",
    "    def remove_ad(self, ad_type):\n",
    "        if ad_type in self.ads_data and len(self.ads_data[ad_type]['Count']) > 0:\n",
    "            count_list = self.ads_data[ad_type]['Count']\n",
    "            print(count_list)\n",
    "            user_input = int(input('Choose which value to remove '))\n",
    "            remove_input = count_list.remove(user_input)\n",
    "            print(\"Value removed\")\n",
    "        else:\n",
    "            print(f\"No {ad_type} Ads to remove\")\n",
    "\n",
    "    # Function to print information about all ad types\n",
    "    def print_ads(self):\n",
    "        for ad_type, ad_info in self.ads_data.items():\n",
    "            count = ad_info['Count']\n",
    "            cost_share_rate = ad_info['Cost_Share_Rate']\n",
    "            actual_spend = ad_info['Actual_Spend']\n",
    "            print(f\"Ad Type: {ad_type}, Count: {count}, Cost Share Rate: {cost_share_rate}, Actual Spend: {actual_spend}\")\n",
    "    \n",
    "    # Function to calculate the total reimbursement based on ad type data\n",
    "    def calculate_total_reimbursement(self):\n",
    "        total_reimbursement = 0\n",
    "        for ad_type, ad_info in self.ads_data.items():\n",
    "            print(ad_info['Count'])\n",
    "            total_calc = sum(ad_info['Count']) * ad_info['Cost_Share_Rate']\n",
    "            total_reimbursement += total_calc\n",
    "            print(\"Total reimbursment Calculation: \", total_reimbursement)\n",
    "        return total_reimbursement"
   ]
  },
  {
   "cell_type": "markdown",
   "id": "b8986756",
   "metadata": {},
   "source": [
    "### Unit Tests\n",
    "\n",
    "Below are the units testing each of the meathods in the Reimbursement"
   ]
  },
  {
   "cell_type": "code",
   "execution_count": 16,
   "id": "96a14805",
   "metadata": {},
   "outputs": [],
   "source": [
    "reimbursement = Reimbursement()"
   ]
  },
  {
   "cell_type": "code",
   "execution_count": 17,
   "id": "ef7ba802",
   "metadata": {},
   "outputs": [],
   "source": [
    "reimbursement.add_to_count('0011', 200)\n",
    "reimbursement.add_to_count('0011', 200)\n",
    "reimbursement.add_to_count('1011', 1500)\n",
    "reimbursement.add_to_count('1111', 500)\n",
    "reimbursement.add_to_count('1010', 600)"
   ]
  },
  {
   "cell_type": "code",
   "execution_count": 18,
   "id": "2806b4da",
   "metadata": {},
   "outputs": [
    {
     "name": "stdout",
     "output_type": "stream",
     "text": [
      "[200, 200]\n",
      "Total reimbursment Calculation:  200.0\n",
      "[1500]\n",
      "Total reimbursment Calculation:  1700.0\n",
      "[500]\n",
      "Total reimbursment Calculation:  2075.0\n",
      "[600]\n",
      "Total reimbursment Calculation:  2615.0\n"
     ]
    },
    {
     "data": {
      "text/plain": [
       "2615.0"
      ]
     },
     "execution_count": 18,
     "metadata": {},
     "output_type": "execute_result"
    }
   ],
   "source": [
    "reimbursement.calculate_total_reimbursement()"
   ]
  },
  {
   "cell_type": "code",
   "execution_count": 20,
   "id": "a9bae614",
   "metadata": {},
   "outputs": [
    {
     "name": "stderr",
     "output_type": "stream",
     "text": [
      "..."
     ]
    },
    {
     "name": "stdout",
     "output_type": "stream",
     "text": [
      "[]\n",
      "Total reimbursment Calculation:  0.0\n",
      "[1500]\n",
      "Total reimbursment Calculation:  1500.0\n",
      "[]\n",
      "Total reimbursment Calculation:  1500.0\n",
      "[]\n",
      "Total reimbursment Calculation:  1500.0\n",
      "[1500]\n",
      "Choose which value to remove 1500\n"
     ]
    },
    {
     "name": "stderr",
     "output_type": "stream",
     "text": [
      "."
     ]
    },
    {
     "name": "stdout",
     "output_type": "stream",
     "text": [
      "Value removed\n"
     ]
    },
    {
     "name": "stderr",
     "output_type": "stream",
     "text": [
      "\n",
      "----------------------------------------------------------------------\n",
      "Ran 4 tests in 20.981s\n",
      "\n",
      "OK\n"
     ]
    }
   ],
   "source": [
    "import unittest\n",
    "from unittest.mock import patch\n",
    "from io import StringIO\n",
    "import sys\n",
    "\n",
    "# Define the Reimbursement class here (or import it if it's in a separate module)\n",
    "\n",
    "class TestReimbursement(unittest.TestCase):\n",
    "\n",
    "    def setUp(self):\n",
    "        # Create an instance of the Reimbursement class for testing\n",
    "        self.reimbursement = Reimbursement()\n",
    "\n",
    "    def test_add_to_count(self):\n",
    "        # Test the add_to_count function\n",
    "        self.reimbursement.add_to_count('0011', 200)\n",
    "        self.assertEqual(self.reimbursement.ads_data['0011']['Count'], [200])\n",
    "\n",
    "        # Test invalid ad type\n",
    "        with patch('sys.stdout', new_callable=StringIO) as mock_stdout:\n",
    "            self.reimbursement.add_to_count('9999', 500)\n",
    "            self.assertEqual(mock_stdout.getvalue().strip(), \"Invalid Ad Type: 9999\")\n",
    "\n",
    "    def test_remove_ad(self):\n",
    "        # Test the remove_ad function\n",
    "        self.reimbursement.add_to_count('1011', 1500)\n",
    "        self.reimbursement.remove_ad('1011')\n",
    "        self.assertEqual(self.reimbursement.ads_data['1011']['Count'], [])\n",
    "\n",
    "        # Test removing from an ad type with no ads\n",
    "        with patch('sys.stdout', new_callable=StringIO) as mock_stdout:\n",
    "            self.reimbursement.remove_ad('1111')\n",
    "            self.assertEqual(mock_stdout.getvalue().strip(), \"No 1111 Ads to remove\")\n",
    "\n",
    "    def test_print_ads(self):\n",
    "        # Test the print_ads function by capturing stdout\n",
    "        with patch('sys.stdout', new_callable=StringIO) as mock_stdout:\n",
    "            self.reimbursement.print_ads()\n",
    "            expected_output = \"Ad Type: 0011, Count: [], Cost Share Rate: 0.5, Actual Spend: 200\\n\" + \\\n",
    "                              \"Ad Type: 1011, Count: [], Cost Share Rate: 1.0, Actual Spend: range(1000, 2000)\\n\" + \\\n",
    "                              \"Ad Type: 1111, Count: [], Cost Share Rate: 0.75, Actual Spend: 500\\n\" + \\\n",
    "                              \"Ad Type: 1010, Count: [], Cost Share Rate: 0.9, Actual Spend: range(0, 750)\"\n",
    "            self.assertEqual(mock_stdout.getvalue().strip(), expected_output)\n",
    "\n",
    "    def test_calculate_total_reimbursement(self):\n",
    "        # Test the calculate_total_reimbursement function\n",
    "        self.reimbursement.add_to_count('1011', 1500)\n",
    "        total_reimbursement = self.reimbursement.calculate_total_reimbursement()\n",
    "        self.assertEqual(total_reimbursement, 1500.0)\n",
    "\n",
    "\n",
    "# Run the unit tests in Jupyter Notebook\n",
    "if __name__ == '__main__':\n",
    "    unittest.main(argv=['first-arg-is-ignored'], exit=False)\n"
   ]
  },
  {
   "cell_type": "markdown",
   "id": "531c6170",
   "metadata": {},
   "source": [
    "## Task 3 - Data Analysis\n",
    "\n",
    "Suppose we get a dataset as attached. (see File \"task3_dataset.csv\")\n",
    "The dataset captures different vendors' cumulative Ads run. The client's data analyst made some mistakes\n",
    "during data entry. E.g. when Ads_Run is 0, that usually means it's an error.\n",
    "\n",
    "Example 1 - Vendor A. Our analyst was able to add a Correced_Enrollment column as following:\n",
    "\n",
    "| Site | Date       | Ads_Run | Corrected_Ads_Run |\n",
    "|------|------------|---------|--------------------|\n",
    "| A    | 2020-01-01 | 5       | 5                  |\n",
    "| A    | 2020-01-02 | 6       | 5                  |\n",
    "| A    | 2020-01-03 | 7       | 7                  |\n",
    "| A    | 2020-01-04 | 0       | 8                  |\n",
    "| A    | 2020-01-05 | 0       | 9                  |\n",
    "| A    | 2020-01-06 | 10      | 10                 |\n",
    "| A    | 2020-01-07 | 11      | 11                 |\n",
    "\n",
    "\n",
    "Example 2 - Vendor B. Our analyst was able to add a Correced_Enrollment column as following:\n",
    "\n",
    "| Site | Date       | Ads_Run | Corrected_Ads_Run |\n",
    "|------|------------|---------|--------------------|\n",
    "| B    | 2020-01-01 | 38      | 38                 |\n",
    "| B    | 2020-01-02 | 39      | 39                 |\n",
    "| B    | 2020-01-03 | 40      | 40                 |\n",
    "| B    | 2020-01-04 | 11      | 41                 |\n",
    "| B    | 2020-01-05 | 12      | 42                 |\n",
    "| B    | 2020-01-06 | 13      | 43                 |\n",
    "| B    | 2020-01-07 | 44      | 44                 |\n",
    "\n",
    "Please write code that would generate the Corrected_Ads_Run column. First make sure your code\n",
    "generates the correct answer. Then think of optimization for time and memory consumption."
   ]
  },
  {
   "cell_type": "markdown",
   "id": "13ccb66a",
   "metadata": {},
   "source": [
    "I'd like to point out that the provided data appears to exhibit a linear trend. The data can best be explained by considering that the daily values of Ads_Run are cumulative, taking into account the accumulative sum of Ads_Run from previous days."
   ]
  },
  {
   "cell_type": "code",
   "execution_count": 4,
   "id": "d4247596",
   "metadata": {},
   "outputs": [],
   "source": [
    "import pandas as pd\n",
    "\n",
    "def create_dict_of_df(file_path):\n",
    "    # Use pd.read_csv() to read the CSV file into a DataFrame\n",
    "    df_dataset = pd.read_csv(file_path)\n",
    "\n",
    "    # Create a list of unique values for the 'Site' column which will serve as the keys\n",
    "    keys = list(df_dataset['Site'].unique())\n",
    "\n",
    "    # Construct the dictionary where the keys are unique values for 'Site'\n",
    "    # and values for the keys are the DataFrames for that 'Site'.\n",
    "    dict_of_df_dataset = {key: df_dataset[df_dataset['Site'] == key] for key in keys}\n",
    "\n",
    "    # Sort and reset the index for each DataFrame in the dictionary\n",
    "    for key in dict_of_df_dataset:\n",
    "        dict_of_df_dataset[key] = dict_of_df_dataset[key].sort_values(by='Date').reset_index(drop=True)\n",
    "\n",
    "    return dict_of_df_dataset"
   ]
  },
  {
   "cell_type": "code",
   "execution_count": 5,
   "id": "d0120ed6",
   "metadata": {},
   "outputs": [
    {
     "name": "stdout",
     "output_type": "stream",
     "text": [
      "   Site     Date  Ads_Run\n",
      "0     A  8/14/20        0\n",
      "1     A  8/15/20        0\n",
      "2     A  8/16/20        0\n",
      "3     A  8/17/20        0\n",
      "4     A  8/18/20        0\n",
      "5     A  8/19/20        0\n",
      "6     A  8/20/20        0\n",
      "7     A  8/21/20        0\n",
      "8     A  8/22/20        0\n",
      "9     A  8/23/20        0\n",
      "10    A  8/24/20        0\n",
      "11    A  8/25/20        0\n",
      "12    A  8/26/20        0\n",
      "13    A  8/27/20        0\n",
      "14    A  8/28/20        0\n",
      "15    A  8/29/20        0\n",
      "16    A  8/30/20        0\n",
      "17    A  8/31/20        0\n",
      "18    A   9/1/20        0\n",
      "19    A  9/10/20        0\n",
      "20    A  9/11/20        0\n",
      "21    A  9/12/20        0\n",
      "22    A  9/13/20        0\n",
      "23    A  9/14/20        0\n",
      "24    A  9/15/20        0\n",
      "25    A  9/16/20        0\n",
      "26    A  9/17/20        5\n",
      "27    A  9/18/20        6\n",
      "28    A  9/19/20        0\n",
      "29    A   9/2/20        0\n",
      "30    A  9/20/20        0\n",
      "31    A  9/21/20        0\n",
      "32    A  9/22/20        0\n",
      "33    A  9/23/20        0\n",
      "34    A  9/24/20        0\n",
      "35    A   9/3/20        0\n",
      "36    A   9/4/20        0\n",
      "37    A   9/5/20        0\n",
      "38    A   9/6/20        0\n",
      "39    A   9/7/20        0\n",
      "40    A   9/8/20        0\n",
      "41    A   9/9/20        0\n"
     ]
    }
   ],
   "source": [
    "# Example usage:\n",
    "file_path = 'task3_dateset.csv'\n",
    "result_dict = create_dict_of_df(file_path)\n",
    "print(result_dict['A'])  # Print the keys of the resulting dictionary"
   ]
  },
  {
   "cell_type": "code",
   "execution_count": 2,
   "id": "78e7e91c",
   "metadata": {},
   "outputs": [],
   "source": [
    "result_a = result_dict['A']"
   ]
  },
  {
   "cell_type": "code",
   "execution_count": 6,
   "id": "27663665",
   "metadata": {},
   "outputs": [],
   "source": [
    "import pandas as pd\n",
    "\n",
    "def correct_ads(result_a):\n",
    "    data_a = result_a.copy()  # Make a copy of result_a to avoid modifying the original DataFrame\n",
    "\n",
    "    data_a['Corrected_Ads'] = data_a['Ads_Run']\n",
    "    index_start = next((i for i, x in enumerate(data_a['Ads_Run']) if x != 0), None)\n",
    "\n",
    "    if index_start is not None and index_start != 0:\n",
    "        for i in range(index_start, -1, -1):\n",
    "            if data_a['Corrected_Ads'][i] == 0:\n",
    "                break\n",
    "            else:\n",
    "                data_a.loc[i - 1, 'Corrected_Ads'] = data_a['Corrected_Ads'][i] - 1\n",
    "    else:\n",
    "        pass\n",
    "\n",
    "    for i in range(index_start, len(data_a)):\n",
    "        if i != 0:\n",
    "            data_a.loc[i, 'Corrected_Ads'] = data_a.loc[i - 1, 'Corrected_Ads'] + 1\n",
    "        else:\n",
    "            data_a.loc[i + 1, 'Corrected_Ads'] = data_a.loc[i, 'Corrected_Ads'] + 1\n",
    "\n",
    "    return data_a"
   ]
  },
  {
   "cell_type": "code",
   "execution_count": 7,
   "id": "3de6ed17",
   "metadata": {},
   "outputs": [
    {
     "name": "stdout",
     "output_type": "stream",
     "text": [
      "   Site     Date  Ads_Run  Corrected_Ads\n",
      "0     A  8/14/20        0              0\n",
      "1     A  8/15/20        0              0\n",
      "2     A  8/16/20        0              0\n",
      "3     A  8/17/20        0              0\n",
      "4     A  8/18/20        0              0\n",
      "5     A  8/19/20        0              0\n",
      "6     A  8/20/20        0              0\n",
      "7     A  8/21/20        0              0\n",
      "8     A  8/22/20        0              0\n",
      "9     A  8/23/20        0              0\n",
      "10    A  8/24/20        0              0\n",
      "11    A  8/25/20        0              0\n",
      "12    A  8/26/20        0              0\n",
      "13    A  8/27/20        0              0\n",
      "14    A  8/28/20        0              0\n",
      "15    A  8/29/20        0              0\n",
      "16    A  8/30/20        0              0\n",
      "17    A  8/31/20        0              0\n",
      "18    A   9/1/20        0              0\n",
      "19    A  9/10/20        0              0\n",
      "20    A  9/11/20        0              0\n",
      "21    A  9/12/20        0              0\n",
      "22    A  9/13/20        0              1\n",
      "23    A  9/14/20        0              2\n",
      "24    A  9/15/20        0              3\n",
      "25    A  9/16/20        0              4\n",
      "26    A  9/17/20        5              5\n",
      "27    A  9/18/20        6              6\n",
      "28    A  9/19/20        0              7\n",
      "29    A   9/2/20        0              8\n",
      "30    A  9/20/20        0              9\n",
      "31    A  9/21/20        0             10\n",
      "32    A  9/22/20        0             11\n",
      "33    A  9/23/20        0             12\n",
      "34    A  9/24/20        0             13\n",
      "35    A   9/3/20        0             14\n",
      "36    A   9/4/20        0             15\n",
      "37    A   9/5/20        0             16\n",
      "38    A   9/6/20        0             17\n",
      "39    A   9/7/20        0             18\n",
      "40    A   9/8/20        0             19\n",
      "41    A   9/9/20        0             20\n"
     ]
    }
   ],
   "source": [
    "# Example usage:\n",
    "# Assuming you have result_a DataFrame\n",
    "corrected_data_a = correct_ads(result_a)\n",
    "print(corrected_data_a)"
   ]
  },
  {
   "cell_type": "markdown",
   "id": "7258ba55",
   "metadata": {},
   "source": [
    "Optimizations and considerations:\n",
    "\n",
    "We calculate the cumulative sum of non-zero Ads_Run values in a separate column ('Cumulative_Nonzero_Ads') to avoid repeatedly calculating it. This reduces time consumption.\n",
    "\n",
    "We calculate 'Corrected_Ads' by taking the difference between consecutive values in 'Cumulative_Nonzero_Ads' using the .shift() method. This avoids the need for explicit loops and improves time efficiency.\n",
    "\n",
    "We explicitly handle the case where there are no non-zero values by setting 'Corrected_Ads' to 0 in that case.\n",
    "\n",
    "After calculating 'Corrected_Ads', we drop the 'Cumulative_Nonzero_Ads' column if it's no longer needed to save memory.\n",
    "\n",
    "These optimizations should improve both time and memory consumption, especially for large DataFrames."
   ]
  },
  {
   "cell_type": "code",
   "execution_count": null,
   "id": "823e9cf4",
   "metadata": {},
   "outputs": [],
   "source": []
  }
 ],
 "metadata": {
  "kernelspec": {
   "display_name": "Python 3 (ipykernel)",
   "language": "python",
   "name": "python3"
  },
  "language_info": {
   "codemirror_mode": {
    "name": "ipython",
    "version": 3
   },
   "file_extension": ".py",
   "mimetype": "text/x-python",
   "name": "python",
   "nbconvert_exporter": "python",
   "pygments_lexer": "ipython3",
   "version": "3.9.7"
  }
 },
 "nbformat": 4,
 "nbformat_minor": 5
}
